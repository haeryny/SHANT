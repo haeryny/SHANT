{
 "cells": [
  {
   "attachments": {},
   "cell_type": "markdown",
   "metadata": {},
   "source": [
    "# Storing List and Dictionary content in Databases\n",
    "\n",
    "- toc: true \n",
    "- badges: true\n",
    "- categories: []"
   ]
  }
 ],
 "metadata": {
  "language_info": {
   "name": "python"
  },
  "orig_nbformat": 4
 },
 "nbformat": 4,
 "nbformat_minor": 2
}
