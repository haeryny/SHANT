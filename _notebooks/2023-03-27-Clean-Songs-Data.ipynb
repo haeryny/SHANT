{
 "cells": [
  {
   "cell_type": "markdown",
   "metadata": {},
   "source": []
  },
  {
   "cell_type": "code",
   "execution_count": 1,
   "metadata": {},
   "outputs": [],
   "source": [
    "# make songs sqlite table\n",
    "import sqlite3 \n",
    "from sqlite3 import Error\n",
    "\n",
    "def create_connection(db_file): \n",
    "    conn = None\n",
    "    try: \n",
    "        conn = sqlite3.connect(db_file)\n",
    "        return conn \n",
    "    except Error as e: \n",
    "        print(e)\n",
    "    return conn \n",
    "\n",
    "def create_table(conn, create_table_sql): \n",
    "    try: \n",
    "        c = conn.cursor()\n",
    "        c.execute(create_table_sql)\n",
    "    except Error as e: \n",
    "        print(e)\n",
    "\n",
    "def main(): \n",
    "    database = 'instance/songs.db'\n",
    "\n",
    "    sql_create_songs_table = \"\"\" CREATE TABLE IF NOT EXISTS songs (\n",
    "                                        genre text NOT NULL,\n",
    "                                        artist_name text NOT NULL,\n",
    "                                        track_name text NOT NULL,\n",
    "                                        duration_ms integer NOT NULL,\n",
    "                                        tempo integer NOT NULL\n",
    "                                    ); \"\"\"\n",
    "    conn = create_connection(database)\n",
    "\n",
    "    # create table\n",
    "    if conn is not None:\n",
    "        # create books table\n",
    "        create_table(conn, sql_create_songs_table)\n",
    "    else:\n",
    "        print(\"Error! cannot create the database connection.\")\n",
    "\n",
    "\n",
    "if __name__ == '__main__':\n",
    "    main()"
   ]
  },
  {
   "cell_type": "code",
   "execution_count": 3,
   "metadata": {},
   "outputs": [],
   "source": [
    "# populate data table \n",
    "# Populate\n",
    "import sqlite3 as sq\n",
    "import pandas as pd\n",
    "\n",
    "connection = sq.connect('instance/songs.db')\n",
    " \n",
    "# Create a cursor object\n",
    "curs = connection.cursor()\n",
    " \n",
    "student = pd.read_csv('files/songs.csv')\n",
    " \n",
    "# Write the data to a sqlite db table\n",
    "student.to_sql('songs', connection, if_exists='replace', index=False)\n",
    "   \n",
    "# Run select sql query\n",
    "curs.execute('select * from songs')\n",
    " \n",
    "# Fetch all records\n",
    "# as list of tuples\n",
    "records = curs.fetchall()\n",
    "     \n",
    "# Close connection to SQLite database\n",
    "connection.close()"
   ]
  },
  {
   "cell_type": "code",
   "execution_count": 18,
   "metadata": {},
   "outputs": [],
   "source": [
    "# clean data\n",
    "import sqlite3\n",
    "\n",
    "conn = sqlite3.connect('instance/songs.db')\n",
    "cursor = conn.cursor()\n",
    "\n",
    "cursor.execute(\"ALTER TABLE songs DROP COLUMN popularity\")\n",
    "cursor.execute(\"ALTER TABLE songs DROP COLUMN acousticness\")\n",
    "cursor.execute(\"ALTER TABLE songs DROP COLUMN danceability\")\n",
    "cursor.execute(\"ALTER TABLE songs DROP COLUMN energy\")\n",
    "cursor.execute(\"ALTER TABLE songs DROP COLUMN instrumentalness\")\n",
    "cursor.execute(\"ALTER TABLE songs DROP COLUMN key\")\n",
    "cursor.execute(\"ALTER TABLE songs DROP COLUMN liveness\")\n",
    "cursor.execute(\"ALTER TABLE songs DROP COLUMN loudness\")\n",
    "cursor.execute(\"ALTER TABLE songs DROP COLUMN mode\")\n",
    "cursor.execute(\"ALTER TABLE songs DROP COLUMN speechiness\")\n",
    "cursor.execute(\"ALTER TABLE songs DROP COLUMN time_signature\")\n",
    "cursor.execute(\"ALTER TABLE songs DROP COLUMN valence\")\n",
    "\n",
    "conn.commit()\n",
    "cursor.close()\n",
    "conn.close()"
   ]
  },
  {
   "cell_type": "code",
   "execution_count": 20,
   "metadata": {},
   "outputs": [
    {
     "name": "stdout",
     "output_type": "stream",
     "text": [
      "<sqlite3.Cursor object at 0x7f29e05ffce0>\n"
     ]
    }
   ],
   "source": [
    "import sqlite3\n",
    "\n",
    "def selectby_genre(genre):\n",
    "    conn = sqlite3.connect('instance/songs.db')\n",
    "    cursor = conn.cursor()\n",
    "    results = cursor.execute(\"SELECT track_name FROM songs WHERE genre = ?\", (genre,))\n",
    "    print(results)\n",
    "    cursor.close()\n",
    "    conn.close()\n",
    "# def selectby_artist():\n",
    "# def selectby_artist():\n",
    "x = 'Movie'\n",
    "selectby_genre(x)"
   ]
  },
  {
   "cell_type": "code",
   "execution_count": 6,
   "metadata": {},
   "outputs": [
    {
     "name": "stdout",
     "output_type": "stream",
     "text": [
      "\n",
      "\n",
      "('Fuck Russ', 'T-Wayne', 'Rap')\n",
      "('untitled 03 | 05.28.2013.', 'Kendrick Lamar', 'Rap')\n",
      "(\"Can't Fuck with Us\", 'Upchurch', 'Rap')\n",
      "('Otherside', 'Post Malone', 'Rap')\n",
      "('Wya?', 'Wifisfuneral', 'Rap')\n",
      "('Breathe', 'Taylor Swift', 'Pop')\n",
      "('Out Of The Woods', 'Taylor Swift', 'Pop')\n",
      "('Delicate - Recorded at The Tracking Room Nashville', 'Taylor Swift', 'Dance')\n",
      "('Blank Space', 'Taylor Swift', 'Dance')\n",
      "('You Belong With Me', 'Taylor Swift', 'Pop')\n"
     ]
    }
   ],
   "source": [
    "def select_by_genre():\n",
    "    import sqlite3\n",
    "    conn = sqlite3.connect('instance/songs.db')\n",
    "    c = conn.cursor()\n",
    "    user_input = input(\"Enter genre:\")  # replace with actual user input\n",
    "    c.execute(\"SELECT track_name, artist_name, genre FROM songs WHERE genre = ? ORDER BY RANDOM() LIMIT 5;\", (user_input,))\n",
    "    results = c.fetchall()\n",
    "    for row in results:\n",
    "        print(row)\n",
    "    conn.close()\n",
    "\n",
    "print(\"\")\n",
    "\n",
    "def select_by_artist():\n",
    "    import sqlite3\n",
    "    conn = sqlite3.connect('instance/songs.db')\n",
    "    c = conn.cursor()\n",
    "    user_input = input(\"Enter artist name:\")  # replace with actual user input\n",
    "    c.execute(\"SELECT track_name, artist_name, genre FROM songs WHERE artist_name = ? ORDER BY RANDOM() LIMIT 5;\", (user_input,))\n",
    "    results = c.fetchall()\n",
    "    for row in results:\n",
    "        print(row)\n",
    "    conn.close()\n",
    "\n",
    "print(\"\")\n",
    "\n",
    "\n",
    "select_by_genre()\n",
    "select_by_artist()"
   ]
  }
 ],
 "metadata": {
  "kernelspec": {
   "display_name": "base",
   "language": "python",
   "name": "python3"
  },
  "language_info": {
   "codemirror_mode": {
    "name": "ipython",
    "version": 3
   },
   "file_extension": ".py",
   "mimetype": "text/x-python",
   "name": "python",
   "nbconvert_exporter": "python",
   "pygments_lexer": "ipython3",
   "version": "3.9.12"
  },
  "orig_nbformat": 4
 },
 "nbformat": 4,
 "nbformat_minor": 2
}
