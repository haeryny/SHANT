{
 "cells": [
  {
   "attachments": {},
   "cell_type": "markdown",
   "metadata": {},
   "source": [
    "# Dictionaries \n",
    "- toc: true \n",
    "- badges: true\n",
    "- categories: []"
   ]
  },
  {
   "attachments": {},
   "cell_type": "markdown",
   "metadata": {},
   "source": [
    "\n",
    "## Ordered Dictionaries \n",
    "- Iterates over keys and values in the same order that the keys were inserted \n",
    "- If an entry is deleted and reinserted, then it will be moved to the end of the dictionary\n",
    "- Specially designed to keep its items ordered\n",
    "- Useful in situations where the order of insertion is important and when you need to process data in a specific order\n",
    "- If the order of the data is important, an ordered dictionary is the better choice\n",
    "\n",
    "### How to create an ordered dictionary? \n",
    "\n",
    "1. Import OrderedDict from collections \n",
    "2. Create an empty ordered dictionary by instantiating OrderedDict without providing arguments to the constructor\n",
    "3. Add key-value pairs to the dictionary by providing a key in square brackets ([]) and assigning a value to that key. \n",
    "4. Print the ordered dictionary \n",
    "5. Iterate over the items in the ordered dictionary \n",
    "\n",
    "## Regular Dictionaries \n",
    "- Mutable; can add, remove, and modify key-value pairs after they have been created\n",
    "- Used to store data values in key:value pairs\n",
    "- Can be iterated over using loops\n",
    "- If order is not important, a regular dictionary may provide better performance\n",
    "\n",
    "### How to create a regular dictionary? \n",
    "\n",
    "1. Create a variable name which will be the name of the dictionary\n",
    "2. Assign the variable to an empty set of curly braces {}\n",
    "3. Create a dictionary with the dict() OR empty curly brackets \n",
    "\n",
    "## Hacks\n",
    "\n",
    "Make a venn diagram about ordered dictionaries and regular dictionaries\n"
   ]
  }
 ],
 "metadata": {
  "language_info": {
   "name": "python"
  },
  "orig_nbformat": 4
 },
 "nbformat": 4,
 "nbformat_minor": 2
}
