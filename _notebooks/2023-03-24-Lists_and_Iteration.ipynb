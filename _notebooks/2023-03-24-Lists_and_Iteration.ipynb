{
 "cells": [
  {
   "attachments": {},
   "cell_type": "markdown",
   "metadata": {},
   "source": [
    "# Building Simulation/Interaction using Lists and Iteration\n",
    "\n",
    "- toc: true \n",
    "- badges: true\n",
    "- categories: []"
   ]
  },
  {
   "attachments": {},
   "cell_type": "markdown",
   "metadata": {},
   "source": [
    "## Vocabulary\n",
    "- *Iteration*  - Repitition of a Process <br>\n",
    "- *`For Loop`* - FOR LOOP repeats a function for a set number of times; I is the number of times repeated <br>\n",
    "- *`While Loop`*  - The while loop is used to repeat a section of code an unknown number of times until a specific condition is met <br>\n",
    "- *Initialization* - What sets the counter variable to a starting value. For example (var i = 0) represents an initial value of 0. <br>\n",
    "- *Condition* - Allows the computer to know whether or not to keep repeating the loop.\n",
    "- *increment/decrement* - Modifies the counter variable after each repetition.\n",
    "- *Indexing* / *List Index* - The position of an element in a list, starting from 0 <br>\n",
    "- *`append`*, *`remove`*, *`pop`* - Various methods, append adds an element to the end, remove removes at an index, and pop removes the last item. <br>\n",
    "- *Elements [in a list]* - An item in a list. <br>\n",
    "- *Nesting* - Having one data type or function inside another data type or function, such as lists or loops. <br>\n",
    "- *array* - Another name for a list, depends on the language"
   ]
  },
  {
   "attachments": {},
   "cell_type": "markdown",
   "metadata": {},
   "source": [
    "## Lists\n",
    "For list operations, write expressions that use list indexing and list procedures. For algorithms involving elements of a list, write iteration statements to traverse a list.\n",
    "- List procedures are implemented in accordance with the syntax rules of the programming language. \n",
    "- Iteration statements can be used to traverse a list\n",
    "- Knowldege of exisiting algorithms that use iteration can help in constructing new algorithms. Some are:\n",
    "    - Determining a minimum or maximum value in a list\n",
    "    - Computing a sum or average of a list of numbers\n",
    "\n",
    "### What are Lists?\n",
    "- Lists are a collection of data in a sequence that is an iterable\n",
    "- Each sequence is demarcated with an <mark>index</mark>, starting from 0. This is known as <mark>base 0 indexing</mark>\n",
    "- In memory, it is stored as a variable name with multiple pointers to each variable stored in a certain order\n",
    "- Lists can also be called arrays\n",
    "- Lists have methods that act upon the list and change them. This moves the pointers within RAM to change the parts of the list.\n",
    "\n",
    "#### Nested Lists\n",
    "\n",
    "##### Uses of Nested lists\n",
    "Placing lists within lists allows you to have arrays of similar data together, and create complexity. <br>\n",
    "\n",
    "Some uses include: \n",
    "- Creating 2d Arrays \n",
    "- Storing similar, but slightly different categories (sublists)\n",
    "- Create a matrix\n",
    "\n"
   ]
  },
  {
   "attachments": {},
   "cell_type": "markdown",
   "metadata": {},
   "source": [
    "## Iteration\n",
    "Iterative statements are also called loops, and they repeat themselves over and over until the condition for stopping is met. \n",
    "- In College Board's Pseudocode, the first is a REPEAT n TIMES loop, where the n represents some number.\n",
    "\n",
    "The second type of loop is a REPEAT UNTIL (condition) loop, where the loop will continue to run until a condition is met.\n",
    "\n",
    "Conceptually, a while loop is very similar to an if conditional, except that a while is continually executed until it's no longer true and an if is only executed once.\n",
    "\n"
   ]
  },
  {
   "attachments": {},
   "cell_type": "markdown",
   "metadata": {},
   "source": [
    "## Code Examples"
   ]
  },
  {
   "attachments": {},
   "cell_type": "markdown",
   "metadata": {},
   "source": [
    "Reverse a list utilizing features of lists and iteration"
   ]
  },
  {
   "cell_type": "code",
   "execution_count": 1,
   "metadata": {},
   "outputs": [
    {
     "name": "stdout",
     "output_type": "stream",
     "text": [
      "List before reverse :  [1, 2, 3, 4, 5]\n",
      "List after reverse :  [5, 4, 3, 2, 1]\n"
     ]
    }
   ],
   "source": [
    "## Code Examples\n",
    "\n",
    "original_list = [1, 2, 3, 4, 5]\n",
    "print(\"List before reverse : \",original_list)\n",
    "reversed_list = []\n",
    "for value in original_list:\n",
    "  reversed_list = [value] + reversed_list\n",
    "# print(\"List after reverse : \", reversed_list)"
   ]
  },
  {
   "attachments": {},
   "cell_type": "markdown",
   "metadata": {},
   "source": [
    "Similar to insertion sort, this algorithm takes an unsorted array and returns a sorted array. Unlike insertion sort where you iterate through the each element and move the smaller elements to the front, this algorithm starts at the beginning and swaps the position of every element in the array"
   ]
  },
  {
   "cell_type": "code",
   "execution_count": 2,
   "metadata": {},
   "outputs": [
    {
     "name": "stdout",
     "output_type": "stream",
     "text": [
      "array before sort [9, 8, 4, 3, 5, 2, 6, 7, 1, 0]\n",
      "array after sort [0, 1, 2, 3, 4, 5, 6, 7, 8, 9]\n"
     ]
    }
   ],
   "source": [
    "list = [9, 8, 4, 3, 5, 2, 6, 7, 1, 0]\n",
    "print(f\"array before sort {list}\")\n",
    "def insertion_sort(list):\n",
    "    for index in range(1,len(list)): # repeats through length of the array\n",
    "        value = list[index]\n",
    "        i = index - 1\n",
    "        while i >= 0:\n",
    "            if value < list[i]:\n",
    "                list[i+1] = list[i] # shift number in slot i to the right\n",
    "                list[i] = value # shift value left into slot i\n",
    "                i = i - 1\n",
    "            else:\n",
    "                break\n",
    "\n",
    "IS = insertion_sort(list)\n",
    "# print(f\"array after sort {list}\")"
   ]
  }
 ],
 "metadata": {
  "kernelspec": {
   "display_name": "base",
   "language": "python",
   "name": "python3"
  },
  "language_info": {
   "codemirror_mode": {
    "name": "ipython",
    "version": 3
   },
   "file_extension": ".py",
   "mimetype": "text/x-python",
   "name": "python",
   "nbconvert_exporter": "python",
   "pygments_lexer": "ipython3",
   "version": "3.9.12"
  },
  "orig_nbformat": 4
 },
 "nbformat": 4,
 "nbformat_minor": 2
}
